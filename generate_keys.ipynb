{
 "cells": [
  {
   "cell_type": "code",
   "execution_count": 1,
   "metadata": {},
   "outputs": [],
   "source": [
    "import pickle\n",
    "from pathlib import Path\n",
    "from streamlit_authenticator.utilities.hasher import Hasher # In new version Hasher change inside the utilities\n",
    "\n",
    "import streamlit_authenticator as stauth"
   ]
  },
  {
   "cell_type": "code",
   "execution_count": 3,
   "metadata": {},
   "outputs": [
    {
     "data": {
      "text/plain": [
       "['$2b$12$G4Xqnf32PqCZbex3z6DShOiEo8QcvpWXpC5.x9tGb5ZaV3LfAlEJq',\n",
       " '$2b$12$2ollfnWk9LA49gw9.xC48.c35QVhGmLcwxekg.zsalv2t/PC6IHtS']"
      ]
     },
     "execution_count": 3,
     "metadata": {},
     "output_type": "execute_result"
    }
   ],
   "source": [
    "passwords = [\"abc123\", \"def456\"]\n",
    "\n",
    "hashed_passwords = Hasher(passwords).generate()\n",
    "hashed_passwords"
   ]
  },
  {
   "cell_type": "code",
   "execution_count": null,
   "metadata": {},
   "outputs": [],
   "source": []
  }
 ],
 "metadata": {
  "kernelspec": {
   "display_name": "Python 3",
   "language": "python",
   "name": "python3"
  },
  "language_info": {
   "codemirror_mode": {
    "name": "ipython",
    "version": 3
   },
   "file_extension": ".py",
   "mimetype": "text/x-python",
   "name": "python",
   "nbconvert_exporter": "python",
   "pygments_lexer": "ipython3",
   "version": "3.11.9"
  }
 },
 "nbformat": 4,
 "nbformat_minor": 2
}
